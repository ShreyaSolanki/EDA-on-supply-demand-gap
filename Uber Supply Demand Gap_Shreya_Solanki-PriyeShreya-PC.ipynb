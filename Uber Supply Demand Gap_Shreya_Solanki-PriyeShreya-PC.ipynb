{
 "cells": [
  {
   "cell_type": "markdown",
   "metadata": {},
   "source": [
    "## Uber Supply Demand Gap\n",
    "\n",
    "#### Business Objective\n",
    "\n",
    "##### To find the time slots of the day where there is maximum gap in supply and demand from the Aiport and City. \n",
    "\n",
    "#### Exploratory Data Analysis\n",
    "To visualyse the gap in various time slots and analysing the reasons of failed trip requests."
   ]
  },
  {
   "cell_type": "code",
   "execution_count": 1,
   "metadata": {},
   "outputs": [
    {
     "name": "stdout",
     "output_type": "stream",
     "text": [
      "<class 'pandas.core.frame.DataFrame'>\n",
      "RangeIndex: 6745 entries, 0 to 6744\n",
      "Data columns (total 6 columns):\n",
      "Request id           6745 non-null int64\n",
      "Pickup point         6745 non-null object\n",
      "Driver id            4095 non-null float64\n",
      "Status               6745 non-null object\n",
      "Request timestamp    6745 non-null object\n",
      "Drop timestamp       2831 non-null object\n",
      "dtypes: float64(1), int64(1), object(4)\n",
      "memory usage: 316.2+ KB\n",
      "None\n"
     ]
    },
    {
     "data": {
      "text/html": [
       "<div>\n",
       "<style scoped>\n",
       "    .dataframe tbody tr th:only-of-type {\n",
       "        vertical-align: middle;\n",
       "    }\n",
       "\n",
       "    .dataframe tbody tr th {\n",
       "        vertical-align: top;\n",
       "    }\n",
       "\n",
       "    .dataframe thead th {\n",
       "        text-align: right;\n",
       "    }\n",
       "</style>\n",
       "<table border=\"1\" class=\"dataframe\">\n",
       "  <thead>\n",
       "    <tr style=\"text-align: right;\">\n",
       "      <th></th>\n",
       "      <th>Request id</th>\n",
       "      <th>Pickup point</th>\n",
       "      <th>Driver id</th>\n",
       "      <th>Status</th>\n",
       "      <th>Request timestamp</th>\n",
       "      <th>Drop timestamp</th>\n",
       "    </tr>\n",
       "  </thead>\n",
       "  <tbody>\n",
       "    <tr>\n",
       "      <th>0</th>\n",
       "      <td>619</td>\n",
       "      <td>Airport</td>\n",
       "      <td>1.0</td>\n",
       "      <td>Trip Completed</td>\n",
       "      <td>11/7/16 11:51</td>\n",
       "      <td>11/7/16 13:00</td>\n",
       "    </tr>\n",
       "    <tr>\n",
       "      <th>1</th>\n",
       "      <td>867</td>\n",
       "      <td>Airport</td>\n",
       "      <td>1.0</td>\n",
       "      <td>Trip Completed</td>\n",
       "      <td>11/7/16 17:57</td>\n",
       "      <td>11/7/16 18:47</td>\n",
       "    </tr>\n",
       "    <tr>\n",
       "      <th>2</th>\n",
       "      <td>1807</td>\n",
       "      <td>City</td>\n",
       "      <td>1.0</td>\n",
       "      <td>Trip Completed</td>\n",
       "      <td>12/7/16 9:17</td>\n",
       "      <td>12/7/16 9:58</td>\n",
       "    </tr>\n",
       "    <tr>\n",
       "      <th>3</th>\n",
       "      <td>2532</td>\n",
       "      <td>Airport</td>\n",
       "      <td>1.0</td>\n",
       "      <td>Trip Completed</td>\n",
       "      <td>12/7/16 21:08</td>\n",
       "      <td>12/7/16 22:03</td>\n",
       "    </tr>\n",
       "    <tr>\n",
       "      <th>4</th>\n",
       "      <td>3112</td>\n",
       "      <td>City</td>\n",
       "      <td>1.0</td>\n",
       "      <td>Trip Completed</td>\n",
       "      <td>13-07-2016 08:33:16</td>\n",
       "      <td>13-07-2016 09:25:47</td>\n",
       "    </tr>\n",
       "  </tbody>\n",
       "</table>\n",
       "</div>"
      ],
      "text/plain": [
       "   Request id Pickup point  Driver id          Status    Request timestamp  \\\n",
       "0         619      Airport        1.0  Trip Completed        11/7/16 11:51   \n",
       "1         867      Airport        1.0  Trip Completed        11/7/16 17:57   \n",
       "2        1807         City        1.0  Trip Completed         12/7/16 9:17   \n",
       "3        2532      Airport        1.0  Trip Completed        12/7/16 21:08   \n",
       "4        3112         City        1.0  Trip Completed  13-07-2016 08:33:16   \n",
       "\n",
       "        Drop timestamp  \n",
       "0        11/7/16 13:00  \n",
       "1        11/7/16 18:47  \n",
       "2         12/7/16 9:58  \n",
       "3        12/7/16 22:03  \n",
       "4  13-07-2016 09:25:47  "
      ]
     },
     "execution_count": 1,
     "metadata": {},
     "output_type": "execute_result"
    }
   ],
   "source": [
    "import pandas as pd\n",
    "import numpy as np\n",
    "import matplotlib.pyplot as plt\n",
    "from matplotlib import style\n",
    "from numpy import median\n",
    "import seaborn as sns\n",
    "sns.set_style(\"whitegrid\")\n",
    "import calendar\n",
    "import datetime\n",
    "\n",
    "uber=pd.read_csv(\"Uber Request Data.csv\")\n",
    "print(uber.info())\n",
    "uber.head()"
   ]
  },
  {
   "cell_type": "markdown",
   "metadata": {},
   "source": [
    "## Trip Status of all requests"
   ]
  },
  {
   "cell_type": "code",
   "execution_count": 2,
   "metadata": {},
   "outputs": [
    {
     "data": {
      "text/html": [
       "<div>\n",
       "<style scoped>\n",
       "    .dataframe tbody tr th:only-of-type {\n",
       "        vertical-align: middle;\n",
       "    }\n",
       "\n",
       "    .dataframe tbody tr th {\n",
       "        vertical-align: top;\n",
       "    }\n",
       "\n",
       "    .dataframe thead th {\n",
       "        text-align: right;\n",
       "    }\n",
       "</style>\n",
       "<table border=\"1\" class=\"dataframe\">\n",
       "  <thead>\n",
       "    <tr style=\"text-align: right;\">\n",
       "      <th></th>\n",
       "      <th>Request id</th>\n",
       "    </tr>\n",
       "    <tr>\n",
       "      <th>Status</th>\n",
       "      <th></th>\n",
       "    </tr>\n",
       "  </thead>\n",
       "  <tbody>\n",
       "    <tr>\n",
       "      <th>Cancelled</th>\n",
       "      <td>1264</td>\n",
       "    </tr>\n",
       "    <tr>\n",
       "      <th>No Cars Available</th>\n",
       "      <td>2650</td>\n",
       "    </tr>\n",
       "    <tr>\n",
       "      <th>Trip Completed</th>\n",
       "      <td>2831</td>\n",
       "    </tr>\n",
       "  </tbody>\n",
       "</table>\n",
       "</div>"
      ],
      "text/plain": [
       "                   Request id\n",
       "Status                       \n",
       "Cancelled                1264\n",
       "No Cars Available        2650\n",
       "Trip Completed           2831"
      ]
     },
     "execution_count": 2,
     "metadata": {},
     "output_type": "execute_result"
    }
   ],
   "source": [
    "statuscount=uber[[\"Request id\",\"Status\"]].groupby(\"Status\").count()\n",
    "statuscount"
   ]
  },
  {
   "cell_type": "markdown",
   "metadata": {},
   "source": [
    "### Missing Data Check"
   ]
  },
  {
   "cell_type": "code",
   "execution_count": 3,
   "metadata": {},
   "outputs": [
    {
     "data": {
      "text/plain": [
       "Request id              0\n",
       "Pickup point            0\n",
       "Driver id            2650\n",
       "Status                  0\n",
       "Request timestamp       0\n",
       "Drop timestamp       3914\n",
       "dtype: int64"
      ]
     },
     "execution_count": 3,
     "metadata": {},
     "output_type": "execute_result"
    }
   ],
   "source": [
    "uber.isnull().sum()"
   ]
  },
  {
   "cell_type": "raw",
   "metadata": {},
   "source": [
    "\"Driver id\" column has 2650 missing as shown above but this is equal to the \"No cars Available\" trip status, hence there are no missing values\n",
    "\"Drop Timestamp\" columns has 3914 missing values which is the sum of \"No cars Available\" ,2650 + 1264 for \"Cancelled\" \n",
    "We can see that there is no missing data as such n the dataset."
   ]
  },
  {
   "cell_type": "code",
   "execution_count": 4,
   "metadata": {},
   "outputs": [
    {
     "data": {
      "text/plain": [
       "array([<matplotlib.axes._subplots.AxesSubplot object at 0x00000110B54060F0>],\n",
       "      dtype=object)"
      ]
     },
     "execution_count": 4,
     "metadata": {},
     "output_type": "execute_result"
    },
    {
     "data": {
      "image/png": "[encoded data removed]",
      "text/plain": [
       "<Figure size 360x360 with 1 Axes>"
      ]
     },
     "metadata": {},
     "output_type": "display_data"
    }
   ],
   "source": [
    "uber[[\"Request id\",\"Status\"]].groupby(\"Status\").count().plot(kind=\"pie\",subplots=\"True\",autopct='%1.0f%%',\n",
    "        shadow=True, startangle=90, figsize=[5,5],colormap=\"Pastel1\")"
   ]
  },
  {
   "cell_type": "markdown",
   "metadata": {},
   "source": [
    "#### There is a very big supply demand gap\n",
    "* #### Only 42 percent of the total trip requests are being completed\n",
    "* #### There are a total of 19 percent trips that are being cancelled by the driver\n",
    "* #### There are 39 percent trip requests which are being turned down due to unavailabiltity of cars\n",
    "#### Hence a bigger problem is car unavailability and need to be tackled depending on the where the request is coming from , Airport or city."
   ]
  },
  {
   "cell_type": "markdown",
   "metadata": {},
   "source": [
    "## Trip Status: Airpot to City  and City to Aiport"
   ]
  },
  {
   "cell_type": "code",
   "execution_count": 5,
   "metadata": {},
   "outputs": [
    {
     "data": {
      "text/plain": [
       "<matplotlib.legend.Legend at 0x110b5833c88>"
      ]
     },
     "execution_count": 5,
     "metadata": {},
     "output_type": "execute_result"
    },
    {
     "data": {
      "image/png": "[encoded data removed]",
      "text/plain": [
       "<Figure size 360x288 with 1 Axes>"
      ]
     },
     "metadata": {
      "needs_background": "light"
     },
     "output_type": "display_data"
    }
   ],
   "source": [
    "reqtype=uber[[\"Request id\",\"Status\",\"Pickup point\"]].groupby([\"Pickup point\",\"Status\"]).count()\n",
    "\n",
    "reqtype.unstack().plot(kind='bar', stacked=True, figsize=[5,4],colormap=\"cool\")\n",
    "plt.xlabel(\"Pickup point\")\n",
    "plt.ylabel(\"Trip requests\")\n",
    "plt.title(\"Comparison of number of requests from both sources\")\n",
    "plt.legend(title='Trip Status',loc='upper center', bbox_to_anchor=(1.25, 0.8), shadow=True, ncol=1, labels=['Cancelled', 'No Cars Available', 'Completed'])"
   ]
  },
  {
   "cell_type": "markdown",
   "metadata": {},
   "source": [
    "#### Visualising percentage of trips for each status from Airport to city and city to airport"
   ]
  },
  {
   "cell_type": "code",
   "execution_count": 6,
   "metadata": {},
   "outputs": [
    {
     "data": {
      "text/plain": [
       "<matplotlib.legend.Legend at 0x110b53bbf28>"
      ]
     },
     "execution_count": 6,
     "metadata": {},
     "output_type": "execute_result"
    },
    {
     "data": {
      "image/png": "[encoded data removed]",
      "text/plain": [
       "<Figure size 360x288 with 1 Axes>"
      ]
     },
     "metadata": {
      "needs_background": "light"
     },
     "output_type": "display_data"
    }
   ],
   "source": [
    "percentgap=reqtype.unstack()\n",
    "percentgap[\"Cancel%\"]=percentgap[\"Request id\"][\"Cancelled\"]/percentgap.iloc[0:,:3].sum(axis=1)*100\n",
    "percentgap[\"NoCarsAvailable%\"]=percentgap[\"Request id\"][\"No Cars Available\"]/percentgap.iloc[0:,:3].sum(axis=1)*100\n",
    "percentgap[\"TripCompleted%\"]=percentgap[\"Request id\"][\"Trip Completed\"]/percentgap.iloc[0:,:3].sum(axis=1)*100\n",
    "\n",
    "\n",
    "percentgap.iloc[0:,3:].plot(kind='bar', stacked=True, figsize=[5,4],colormap=\"winter\")\n",
    "plt.xlabel(\"Pickup point\")\n",
    "plt.ylabel(\"Percent of total trip requests status\")\n",
    "plt.title(\"Percentage of trip status\")\n",
    "plt.legend(title='Trip Status', loc='upper center', bbox_to_anchor=(1.25, 0.9), shadow=True, ncol=1, labels=['Cancelled', 'No Cars Available', 'Completed'])"
   ]
  },
  {
   "cell_type": "markdown",
   "metadata": {},
   "source": [
    "###### More problematic Pickup point is Airport with 59% (53%- non availability of cars and 6%- cancellations) supply demand gap \n",
    "###### City has 57 % (27%- non availability of cars and 30%- cancellations)supply demand gap"
   ]
  },
  {
   "cell_type": "markdown",
   "metadata": {},
   "source": [
    "### Creating Derived Metrics from request timestamp: \n",
    " * #### Hour of trip request, \n",
    " * #### Day of the week\n",
    " * #### Time slots : early morning, monring, afternoon, evening, night and late night."
   ]
  },
  {
   "cell_type": "code",
   "execution_count": 7,
   "metadata": {},
   "outputs": [
    {
     "data": {
      "text/html": [
       "<div>\n",
       "<style scoped>\n",
       "    .dataframe tbody tr th:only-of-type {\n",
       "        vertical-align: middle;\n",
       "    }\n",
       "\n",
       "    .dataframe tbody tr th {\n",
       "        vertical-align: top;\n",
       "    }\n",
       "\n",
       "    .dataframe thead th {\n",
       "        text-align: right;\n",
       "    }\n",
       "</style>\n",
       "<table border=\"1\" class=\"dataframe\">\n",
       "  <thead>\n",
       "    <tr style=\"text-align: right;\">\n",
       "      <th></th>\n",
       "      <th>Request id</th>\n",
       "      <th>Pickup point</th>\n",
       "      <th>Driver id</th>\n",
       "      <th>Status</th>\n",
       "      <th>Request timestamp</th>\n",
       "      <th>Drop timestamp</th>\n",
       "      <th>reqhour</th>\n",
       "      <th>Day</th>\n",
       "    </tr>\n",
       "  </thead>\n",
       "  <tbody>\n",
       "    <tr>\n",
       "      <th>0</th>\n",
       "      <td>619</td>\n",
       "      <td>Airport</td>\n",
       "      <td>1.0</td>\n",
       "      <td>Trip Completed</td>\n",
       "      <td>2016-11-07 11:51:00</td>\n",
       "      <td>11/7/16 13:00</td>\n",
       "      <td>11</td>\n",
       "      <td>Monday</td>\n",
       "    </tr>\n",
       "    <tr>\n",
       "      <th>1</th>\n",
       "      <td>867</td>\n",
       "      <td>Airport</td>\n",
       "      <td>1.0</td>\n",
       "      <td>Trip Completed</td>\n",
       "      <td>2016-11-07 17:57:00</td>\n",
       "      <td>11/7/16 18:47</td>\n",
       "      <td>17</td>\n",
       "      <td>Monday</td>\n",
       "    </tr>\n",
       "    <tr>\n",
       "      <th>2</th>\n",
       "      <td>1807</td>\n",
       "      <td>City</td>\n",
       "      <td>1.0</td>\n",
       "      <td>Trip Completed</td>\n",
       "      <td>2016-12-07 09:17:00</td>\n",
       "      <td>12/7/16 9:58</td>\n",
       "      <td>9</td>\n",
       "      <td>Wednesday</td>\n",
       "    </tr>\n",
       "    <tr>\n",
       "      <th>3</th>\n",
       "      <td>2532</td>\n",
       "      <td>Airport</td>\n",
       "      <td>1.0</td>\n",
       "      <td>Trip Completed</td>\n",
       "      <td>2016-12-07 21:08:00</td>\n",
       "      <td>12/7/16 22:03</td>\n",
       "      <td>21</td>\n",
       "      <td>Wednesday</td>\n",
       "    </tr>\n",
       "    <tr>\n",
       "      <th>4</th>\n",
       "      <td>3112</td>\n",
       "      <td>City</td>\n",
       "      <td>1.0</td>\n",
       "      <td>Trip Completed</td>\n",
       "      <td>2016-07-13 08:33:16</td>\n",
       "      <td>13-07-2016 09:25:47</td>\n",
       "      <td>8</td>\n",
       "      <td>Wednesday</td>\n",
       "    </tr>\n",
       "  </tbody>\n",
       "</table>\n",
       "</div>"
      ],
      "text/plain": [
       "   Request id Pickup point  Driver id          Status   Request timestamp  \\\n",
       "0         619      Airport        1.0  Trip Completed 2016-11-07 11:51:00   \n",
       "1         867      Airport        1.0  Trip Completed 2016-11-07 17:57:00   \n",
       "2        1807         City        1.0  Trip Completed 2016-12-07 09:17:00   \n",
       "3        2532      Airport        1.0  Trip Completed 2016-12-07 21:08:00   \n",
       "4        3112         City        1.0  Trip Completed 2016-07-13 08:33:16   \n",
       "\n",
       "        Drop timestamp  reqhour        Day  \n",
       "0        11/7/16 13:00       11     Monday  \n",
       "1        11/7/16 18:47       17     Monday  \n",
       "2         12/7/16 9:58        9  Wednesday  \n",
       "3        12/7/16 22:03       21  Wednesday  \n",
       "4  13-07-2016 09:25:47        8  Wednesday  "
      ]
     },
     "execution_count": 7,
     "metadata": {},
     "output_type": "execute_result"
    }
   ],
   "source": [
    "uber['Request timestamp'] = pd.to_datetime(uber['Request timestamp'])\n",
    "\n",
    "uber['reqhour']=uber['Request timestamp'].dt.hour\n",
    "uber['Day'] = uber['Request timestamp'].apply(lambda x: datetime.datetime.strftime(x, '%A'))\n",
    "uber.head()"
   ]
  },
  {
   "cell_type": "markdown",
   "metadata": {},
   "source": [
    "## Days of the week"
   ]
  },
  {
   "cell_type": "code",
   "execution_count": 8,
   "metadata": {},
   "outputs": [
    {
     "data": {
      "text/plain": [
       "<Figure size 1080x720 with 0 Axes>"
      ]
     },
     "metadata": {},
     "output_type": "display_data"
    },
    {
     "data": {
      "image/png": "[encoded data removed]",
      "text/plain": [
       "<Figure size 576x360 with 1 Axes>"
      ]
     },
     "metadata": {
      "needs_background": "light"
     },
     "output_type": "display_data"
    }
   ],
   "source": [
    "\n",
    "tripday=uber[[\"Request id\",\"Status\",\"Day\"]].groupby([\"Day\",\"Status\"]).count().unstack()\n",
    "plt.figure(figsize=(15,10))\n",
    "tripday.plot(kind='bar', stacked=True, figsize=[8,5], legend=True,colormap=\"winter\")\n",
    "plt.xlabel(\"Day\")\n",
    "plt.ylabel(\"Number of trip requests\")\n",
    "plt.title(\"Trip status\")\n",
    "plt.legend(title='Trip Status', loc='upper left', labels=['Trip Cancelled', 'No Cars Available', 'Trip Completed'])\n",
    "plt.show()"
   ]
  },
  {
   "cell_type": "markdown",
   "metadata": {},
   "source": [
    "### Days of the week: Comparing  both Pickup Points"
   ]
  },
  {
   "cell_type": "code",
   "execution_count": 9,
   "metadata": {},
   "outputs": [
    {
     "data": {
      "text/plain": [
       "<Figure size 1080x720 with 0 Axes>"
      ]
     },
     "metadata": {},
     "output_type": "display_data"
    },
    {
     "data": {
      "image/png": "[encoded data removed]",
      "text/plain": [
       "<Figure size 720x432 with 1 Axes>"
      ]
     },
     "metadata": {
      "needs_background": "light"
     },
     "output_type": "display_data"
    }
   ],
   "source": [
    "timeslots=uber[[\"Request id\",\"Status\",\"Day\",\"Pickup point\"]].groupby([\"Day\",\"Pickup point\",\"Status\"]).count()\n",
    "plt.figure(figsize=(15,10))\n",
    "timeslots.unstack().plot(kind='bar', stacked=True, figsize=[10,6], legend=True,colormap=\"winter\")\n",
    "plt.xlabel(\"Hour of the day, Pickup Point\")\n",
    "plt.ylabel(\"Number of trip requests\")\n",
    "plt.title(\"Trip status during hourly timeslots in the duration 0000hrs-2300hrs\")\n",
    "plt.legend(title='Trip Status', loc='upper left', labels=['Trip Cancelled', 'No Cars Available', 'Trip Completed'])\n",
    "plt.show()"
   ]
  },
  {
   "cell_type": "markdown",
   "metadata": {},
   "source": [
    "## Hours of the day: All trips both pickup points combined"
   ]
  },
  {
   "cell_type": "code",
   "execution_count": 10,
   "metadata": {},
   "outputs": [
    {
     "data": {
      "text/plain": [
       "<Figure size 1080x720 with 0 Axes>"
      ]
     },
     "metadata": {},
     "output_type": "display_data"
    },
    {
     "data": {
      "image/png": "[encoded data removed]",
      "text/plain": [
       "<Figure size 720x432 with 1 Axes>"
      ]
     },
     "metadata": {
      "needs_background": "light"
     },
     "output_type": "display_data"
    }
   ],
   "source": [
    "timeslots=uber[[\"Request id\",\"Status\",\"reqhour\"]].groupby([\"reqhour\",\"Status\"]).count()\n",
    "plt.figure(figsize=(15,10))\n",
    "timeslots.unstack().plot(kind='bar', stacked=True, figsize=[10,6], legend=True,colormap=\"winter\")\n",
    "plt.xlabel(\"Trip Hour-24 hours\")\n",
    "plt.ylabel(\"Number of trip requests\")\n",
    "plt.title(\"Trip status during hourly timeslots in the duration 0000hrs-2300hrs\")\n",
    "plt.legend(title='Trip Status', loc='upper left', labels=['Trip Cancelled', 'No Cars Available', 'Trip Completed'])\n",
    "plt.show()"
   ]
  },
  {
   "cell_type": "markdown",
   "metadata": {},
   "source": [
    "## Hours of the day: Aiport and City Comparison Chart"
   ]
  },
  {
   "cell_type": "code",
   "execution_count": 11,
   "metadata": {},
   "outputs": [
    {
     "data": {
      "text/plain": [
       "<Figure size 1080x720 with 0 Axes>"
      ]
     },
     "metadata": {},
     "output_type": "display_data"
    },
    {
     "data": {
      "image/png": "[encoded data removed]",
      "text/plain": [
       "<Figure size 1080x576 with 1 Axes>"
      ]
     },
     "metadata": {
      "needs_background": "light"
     },
     "output_type": "display_data"
    }
   ],
   "source": [
    "timeslots=uber[[\"Request id\",\"Status\",\"reqhour\",\"Pickup point\"]].groupby([\"reqhour\",\"Pickup point\",\"Status\"]).count()\n",
    "plt.figure(figsize=(15,10))\n",
    "timeslots.unstack().plot(kind='bar', stacked=True, figsize=[15,8], legend=True,colormap=\"winter\")\n",
    "plt.xlabel(\"Hour of the day, Pickup Point\")\n",
    "plt.ylabel(\"Number of trip requests\")\n",
    "plt.title(\"Trip status during hourly timeslots in the duration 0000hrs-2300hrs\")\n",
    "plt.legend(title='Trip Status', loc='upper left', labels=['Trip Cancelled', 'No Cars Available', 'Trip Completed'])\n",
    "plt.show()"
   ]
  },
  {
   "cell_type": "markdown",
   "metadata": {},
   "source": [
    "##### Most problematic timeslots with highest gap: 0500-0900hrs and 1700-2100hrs with more than 400 requests and approx. 150 getting completed . A supply demand gap of 70-80% exists in these timeslots"
   ]
  },
  {
   "cell_type": "code",
   "execution_count": null,
   "metadata": {},
   "outputs": [],
   "source": []
  },
  {
   "cell_type": "code",
   "execution_count": null,
   "metadata": {},
   "outputs": [],
   "source": []
  },
  {
   "cell_type": "code",
   "execution_count": null,
   "metadata": {},
   "outputs": [],
   "source": []
  },
  {
   "cell_type": "code",
   "execution_count": 12,
   "metadata": {},
   "outputs": [
    {
     "data": {
      "text/plain": [
       "<matplotlib.legend.Legend at 0x110b5debc18>"
      ]
     },
     "execution_count": 12,
     "metadata": {},
     "output_type": "execute_result"
    },
    {
     "data": {
      "image/png": "[encoded data removed]",
      "text/plain": [
       "<Figure size 864x432 with 1 Axes>"
      ]
     },
     "metadata": {
      "needs_background": "light"
     },
     "output_type": "display_data"
    }
   ],
   "source": [
    "# create dataframe of trip status value counts for city and airport \n",
    "sd=uber[[\"Request id\",\"Status\",\"reqhour\",\"Pickup point\"]].groupby([\"reqhour\",\"Pickup point\",\"Status\"]).count().unstack()\n",
    "\n",
    "# fill nan values with 0 because Nan is for 0 count in respective trip status\n",
    "\n",
    "supdem=sd.fillna(0)\n",
    "\n",
    "\n",
    "cancel=round(supdem[\"Request id\"][\"Cancelled\"]/supdem.sum(axis=1)*100)\n",
    "\n",
    "nocars=round(supdem[\"Request id\"][\"No Cars Available\"]/supdem.sum(axis=1)*100)\n",
    "\n",
    "tripcomp=round(supdem[\"Request id\"][\"Trip Completed\"]/supdem.sum(axis=1)*100)\n",
    "\n",
    "dfs = [supdem, cancel, nocars, tripcomp]\n",
    "supdemgap=pd.concat(dfs,axis=1)\n",
    "\n",
    "supdemgap.columns=['Cancelled','No Cars Available','Trip Completed',\"%cancelled\", \"%NoCarsAvail\", \"%TripCompleted\"]\n",
    "\n",
    "supdemgap.iloc[0:,3:].plot(kind='bar', stacked=True, figsize=[12,6],colormap=\"winter\")\n",
    "plt.xlabel(\"(Trip-Hour, Trip-Request Pickup-point)\")\n",
    "plt.ylabel(\"Number of trip requests\")\n",
    "plt.title(\"Supply Demand Gap in all the time slots from Airport and City\")\n",
    "plt.legend(title='Trip Status', loc='upper center', bbox_to_anchor=(1.15, 0.8), shadow=True, ncol=1, labels=['Trips Cancelled %', 'No Cars Available %', 'Trip Completed %'])"
   ]
  },
  {
   "cell_type": "markdown",
   "metadata": {},
   "source": [
    "#### City to Airport : hours of the day"
   ]
  },
  {
   "cell_type": "code",
   "execution_count": 14,
   "metadata": {},
   "outputs": [
    {
     "data": {
      "text/plain": [
       "<matplotlib.legend.Legend at 0x110b597d5f8>"
      ]
     },
     "execution_count": 14,
     "metadata": {},
     "output_type": "execute_result"
    },
    {
     "data": {
      "image/png": "[encoded data removed]",
      "text/plain": [
       "<Figure size 648x360 with 1 Axes>"
      ]
     },
     "metadata": {
      "needs_background": "light"
     },
     "output_type": "display_data"
    }
   ],
   "source": [
    "n=uber[[\"Request id\",\"Status\",\"reqhour\",\"Pickup point\"]].groupby([\"reqhour\",\"Pickup point\",\"Status\"]).count()\n",
    "citysupdemgap=n.unstack().loc[sd.index.get_level_values(\"Pickup point\")==\"City\"].reset_index(level=\"Pickup point\", drop=True)\n",
    "airportsupdemgap=n.unstack().loc[sd.index.get_level_values(\"Pickup point\")==\"Airport\"].reset_index(level=\"Pickup point\", drop=True)\n",
    "citysupdemgap.plot(kind='bar', stacked=True, figsize=[9,5],colormap=\"winter\")\n",
    "plt.xlabel(\"Trip request hour\")\n",
    "plt.ylabel(\"Number of trip requests\")\n",
    "plt.title(\"0000-2300hrs timeslots from City to Airport\")\n",
    "plt.legend(title='Trip Status', labels=['Trips Cancelled', 'No Cars Available ', 'Trips Completed'],loc='upper center', bbox_to_anchor=(1.15, 0.8), shadow=True, ncol=1)"
   ]
  },
  {
   "cell_type": "code",
   "execution_count": null,
   "metadata": {},
   "outputs": [],
   "source": []
  },
  {
   "cell_type": "markdown",
   "metadata": {},
   "source": [
    "### Trip Status Percentage - City to Airport - hours of the day\n"
   ]
  },
  {
   "cell_type": "code",
   "execution_count": null,
   "metadata": {},
   "outputs": [],
   "source": [
    "timepickcity=supdemgap.loc[supdemgap.index.get_level_values(\"Pickup point\")==\"City\"].iloc[0:,3:].reset_index(level=\"Pickup point\", drop=True)\n",
    "timepickcity.plot(kind='bar', stacked=True, figsize=[8,5], colormap=\"winter\")\n",
    "plt.xlabel(\"Trip-Hour\")\n",
    "plt.ylabel(\"Percentage of trip requests\")\n",
    "plt.title(\"City to Airport\")\n",
    "plt.legend(title='Trip Status', labels=['Trips Cancelled%', 'No Cars Available%', 'Trip Completed%'],\n",
    "        loc='upper center', bbox_to_anchor=(1.15, 0.8), shadow=True, ncol=1)"
   ]
  },
  {
   "cell_type": "markdown",
   "metadata": {},
   "source": [
    "### Trip Status Count -Airport to City  - hours of the day"
   ]
  },
  {
   "cell_type": "code",
   "execution_count": null,
   "metadata": {},
   "outputs": [],
   "source": [
    "airportsupdemgap.plot(kind='bar', stacked=True, figsize=[6,5],colormap=\"winter\")\n",
    "plt.xlabel(\"Trip request hour\")\n",
    "plt.ylabel(\"Number of trip requests\")\n",
    "plt.title(\" 0000-2300hrs from Airport to City\")\n",
    "plt.legend(title='Trip Status', labels=['Trips Cancelled', 'No Cars Available', 'Trips Completed'],loc='upper center', bbox_to_anchor=(1.35, 0.8), shadow=True, ncol=1)"
   ]
  },
  {
   "cell_type": "markdown",
   "metadata": {},
   "source": [
    "### Trip Status Percentage - Airport to City  - Hours of the day\n"
   ]
  },
  {
   "cell_type": "code",
   "execution_count": null,
   "metadata": {},
   "outputs": [],
   "source": [
    "timepickair=supdemgap.loc[supdemgap.index.get_level_values(\"Pickup point\")==\"Airport\"].iloc[0:,3:].reset_index(level=\"Pickup point\", drop=True)\n",
    "timepickair.plot(kind='bar',colormap=\"winter\", stacked=True, figsize=[8,5],  title=\"Airport to city\")\n",
    "\n",
    "plt.xlabel(\"Trip-Hour\")\n",
    "plt.ylabel(\"Percentage of trip requests\")\n",
    "\n",
    "plt.legend(title='Trip Status', labels=['Trips Cancelled%', 'No Cars Available%', 'Trip Completed%'],loc='upper center', bbox_to_anchor=(1.15, 0.8), shadow=True, ncol=1)"
   ]
  },
  {
   "cell_type": "code",
   "execution_count": null,
   "metadata": {},
   "outputs": [],
   "source": [
    "timepickcity=supdemgap.loc[supdemgap.index.get_level_values(\"Pickup point\")==\"City\"].iloc[0:,3:].reset_index(level=\"Pickup point\", drop=True)\n"
   ]
  },
  {
   "cell_type": "markdown",
   "metadata": {},
   "source": [
    "### Timeslots: Total Count from Both pickup points together\n",
    "#### Trip Status Count - Early Morning to Late night Slots "
   ]
  },
  {
   "cell_type": "code",
   "execution_count": null,
   "metadata": {},
   "outputs": [],
   "source": [
    "morn5to9=pd.DataFrame(sd.loc[5:8].sum())\n",
    "morn9to12=pd.DataFrame(sd.loc[9:11].sum())\n",
    "afternoon1to5=pd.DataFrame(sd.loc[12:16].sum())\n",
    "evening5to10pm=pd.DataFrame(sd.loc[17:21].sum())\n",
    "night10to12=pd.DataFrame(sd.loc[22:23].sum())\n",
    "midnight12to5am=pd.DataFrame(sd.loc[0:4].sum())\n",
    "\n",
    "slots=pd.concat([morn5to9,morn9to12,afternoon1to5,evening5to10pm,night10to12,midnight12to5am],axis=1)\n",
    "\n",
    "slots.columns=[\"morn5to9\",\"morn9to12\",\"afternoon1to5\",\"evening5to10pm\",\"night10to12\",\"midnight12to5am\"]\n",
    "\n",
    "slots.reset_index(inplace=True)\n",
    "slots.drop(\"level_0\",axis=1,inplace=True)\n",
    "slots.set_index(\"Status\",inplace=True)\n",
    "gap=slots.T\n",
    "gap.plot(kind='bar', stacked=True, figsize=[8,5], colormap=\"winter\")\n",
    "plt.xlabel(\"Time\")\n",
    "plt.ylabel(\"Number of Requests\")\n",
    "plt.title(\"Trip Status Count at different timeslots of the day\")\n",
    "plt.legend(title='Trip Status', labels=['Trips Cancelled', 'No Cars Available', 'Trip Completed'],\n",
    "        loc='upper center', bbox_to_anchor=(1.15, 0.8), shadow=True, ncol=1)"
   ]
  },
  {
   "cell_type": "code",
   "execution_count": null,
   "metadata": {},
   "outputs": [],
   "source": [
    "total=slots.sum()\n",
    "cancel=round((slots.loc[\"Cancelled\"]/total)*100)\n",
    "nocars=round((slots.loc[\"No Cars Available\"]/total)*100)\n",
    "tripcomp=round((slots.loc[\"Trip Completed\"]/total)*100)\n",
    "fail=slots.iloc[:2].sum()\n",
    "failperc=round((fail/total)*100)\n",
    "supply_dem_gap=pd.concat([gap,pd.DataFrame(columns =[\"%cancelled\", \"%NoCarsAvail\", \"%TripCompleted\",\"%Failed_req\",\n",
    "           \"failed requests\",\"total_requests\"])])\n",
    "supply_dem_gap[\"%cancelled\"]=cancel\n",
    "supply_dem_gap[\"%NoCarsAvail\"]=nocars\n",
    "supply_dem_gap[\"%TripCompleted\"]=tripcomp\n",
    "supply_dem_gap[\"%Failed_req\"]=failperc\n",
    "supply_dem_gap[\"failed requests\"]=fail\n",
    "supply_dem_gap[\"total_requests\"]=total\n",
    "\n",
    "\n",
    "supply_dem_gap"
   ]
  },
  {
   "cell_type": "markdown",
   "metadata": {},
   "source": [
    "#### Trip Status Percentage - Early Morning to Late night Slots"
   ]
  },
  {
   "cell_type": "code",
   "execution_count": null,
   "metadata": {},
   "outputs": [],
   "source": [
    "supply_dem_gap[[\"%cancelled\", \"%NoCarsAvail\", \"%TripCompleted\"]].plot(kind='bar',stacked=True,figsize=[10,5], colormap=\"gnuplot\")\n",
    "plt.xlabel(\"Time\")\n",
    "plt.ylabel(\"Percentage of Requests\")\n",
    "plt.title(\"Supply Demand Gap\")\n",
    "plt.legend(title='Trip Status', labels=[\"%cancelled\", \"%NoCarsAvail\", \"%TripCompleted\"],\n",
    "        loc='upper center', bbox_to_anchor=(1.15, 0.8), shadow=True, ncol=1)"
   ]
  },
  {
   "cell_type": "markdown",
   "metadata": {},
   "source": [
    "#### Failed and Successful Trip Percentage - Early Morning to Late night Slots"
   ]
  },
  {
   "cell_type": "code",
   "execution_count": null,
   "metadata": {},
   "outputs": [],
   "source": [
    "supply_dem_gap[[\"failed requests\",\"Trip Completed\",\"total_requests\"]].plot(kind='bar',figsize=[10,6], colormap=\"gnuplot\")\n",
    "plt.xlabel(\"Time\")\n",
    "plt.ylabel(\"Number of Requests\")\n",
    "plt.title(\"Supply Demad Gap\")\n",
    "plt.legend(title='Trip Status', labels=['unsuccesful booking requests', 'successful booking req', 'Total booking'],\n",
    "        loc='upper center', bbox_to_anchor=(1.15, 0.8), shadow=True, ncol=1)"
   ]
  },
  {
   "cell_type": "code",
   "execution_count": null,
   "metadata": {},
   "outputs": [],
   "source": [
    "supply_dem_gap[[\"%Failed_req\",\"%TripCompleted\"]].plot(kind='bar',stacked=True,figsize=[10,5], colormap=\"gnuplot\")\n",
    "plt.xlabel(\"Timeslots\")\n",
    "plt.ylabel(\"Percentage of Requests\")\n",
    "plt.title(\"Supply Demand Gap\")\n",
    "plt.legend(title='Trip Status', labels=['Failed Requests- Incomplete Trips', 'Successful Requests- Completed Trips'],\n",
    "        loc='upper center', bbox_to_anchor=(1.15, 0.8), shadow=True, ncol=1)"
   ]
  },
  {
   "cell_type": "code",
   "execution_count": null,
   "metadata": {},
   "outputs": [],
   "source": []
  },
  {
   "cell_type": "markdown",
   "metadata": {},
   "source": [
    "### Trip Status Count - Time Slots - Airport to City"
   ]
  },
  {
   "cell_type": "code",
   "execution_count": null,
   "metadata": {},
   "outputs": [],
   "source": [
    "morn5to9=pd.DataFrame(airportsupdemgap.loc[5:8].sum())\n",
    "morn9to12=pd.DataFrame(airportsupdemgap.loc[9:11].sum())\n",
    "afternoon1to5=pd.DataFrame(airportsupdemgap.loc[12:16].sum())\n",
    "evening5to10pm=pd.DataFrame(airportsupdemgap.loc[17:21].sum())\n",
    "night10to12=pd.DataFrame(airportsupdemgap.loc[22:23].sum())\n",
    "midnight12to5am=pd.DataFrame(airportsupdemgap.loc[0:4].sum())\n",
    "\n",
    "slots=pd.concat([morn5to9,morn9to12,afternoon1to5,evening5to10pm,night10to12,midnight12to5am],axis=1)\n",
    "\n",
    "slots.columns=[\"morn5to9\",\"morn9to12\",\"afternoon1to5\",\"evening5to10pm\",\"night10to12\",\"midnight12to5am\"]\n",
    "\n",
    "slots.reset_index(inplace=True)\n",
    "slots.drop(\"level_0\",axis=1,inplace=True)\n",
    "\n",
    "\n",
    "\n",
    "slots.set_index(\"Status\",inplace=True)\n",
    "gap=slots.T\n",
    "gap.plot(kind='bar', stacked=True, figsize=[8,5], colormap=\"winter\")\n",
    "plt.xlabel(\"Time\")\n",
    "plt.ylabel(\"Number of Requests\")\n",
    "plt.title(\"Trip Status Count at different timeslots of the day\")\n",
    "plt.legend(title='Trip Status', labels=['Trips Cancelled', 'No Cars Available', 'Trip Completed'],\n",
    "        loc='upper center', bbox_to_anchor=(1.15, 0.8), shadow=True, ncol=1)"
   ]
  },
  {
   "cell_type": "code",
   "execution_count": null,
   "metadata": {},
   "outputs": [],
   "source": [
    "total=slots.sum()\n",
    "cancel=round((slots.loc[\"Cancelled\"]/total)*100)\n",
    "nocars=round((slots.loc[\"No Cars Available\"]/total)*100)\n",
    "tripcomp=round((slots.loc[\"Trip Completed\"]/total)*100)\n",
    "fail=slots.iloc[:2].sum()\n",
    "failperc=round((fail/total)*100)\n",
    "supply_dem_gap=pd.concat([gap,pd.DataFrame(columns =[\"%cancelled\", \"%NoCarsAvail\", \"%TripCompleted\",\"%Failed_req\",\n",
    "           \"failed requests\",\"total_requests\"])])\n",
    "supply_dem_gap[\"%cancelled\"]=cancel\n",
    "supply_dem_gap[\"%NoCarsAvail\"]=nocars\n",
    "supply_dem_gap[\"%TripCompleted\"]=tripcomp\n",
    "supply_dem_gap[\"%Failed_req\"]=failperc\n",
    "supply_dem_gap[\"failed requests\"]=fail\n",
    "supply_dem_gap[\"total_requests\"]=total\n",
    "\n",
    "\n",
    "supply_dem_gap"
   ]
  },
  {
   "cell_type": "markdown",
   "metadata": {},
   "source": [
    "#### Trip Status Percentage - Early Morning to Late night Slots"
   ]
  },
  {
   "cell_type": "code",
   "execution_count": null,
   "metadata": {},
   "outputs": [],
   "source": [
    "supply_dem_gap[[\"%cancelled\", \"%NoCarsAvail\", \"%TripCompleted\"]].plot(kind='bar',stacked=True,figsize=[10,5], colormap=\"gnuplot\")\n",
    "plt.xlabel(\"Time\")\n",
    "plt.ylabel(\"Percentage of Requests\")\n",
    "plt.title(\"Supply Demand Gap\")\n",
    "plt.legend(title='Trip Status', labels=[\"%cancelled\", \"%NoCarsAvail\", \"%TripCompleted\"],\n",
    "        loc='upper center', bbox_to_anchor=(1.15, 0.8), shadow=True, ncol=1)"
   ]
  },
  {
   "cell_type": "markdown",
   "metadata": {},
   "source": [
    "#### Failed and Successful Trip Percentage - Early Morning to Late night Slots"
   ]
  },
  {
   "cell_type": "code",
   "execution_count": null,
   "metadata": {},
   "outputs": [],
   "source": [
    "supply_dem_gap[[\"failed requests\",\"Trip Completed\",\"total_requests\"]].plot(kind='bar',figsize=[10,6], colormap=\"gnuplot\")\n",
    "plt.xlabel(\"Time\")\n",
    "plt.ylabel(\"Number of Requests\")\n",
    "plt.title(\"Airport to City: Trip Failed and Successful Count\")\n",
    "plt.legend(title='Trip Status', labels=['unsuccesful booking requests', 'successful booking req', 'Total booking'],\n",
    "        loc='upper center', bbox_to_anchor=(1.15, 0.8), shadow=True, ncol=1)"
   ]
  },
  {
   "cell_type": "markdown",
   "metadata": {},
   "source": [
    "### Observation: City to Airport  \n",
    "* ##### Average Supply-Demand gap of 57% (43% of total trips requests are completed across all the timeslots).\n",
    "######   - 57% incomplete requests: 27% is due to Unavailability of cars and 30% due to cancellation by drivers.\n",
    "* #####  Highest demand during 0500hrs-1000hrs - 73% Non Availability of Cars and 6% Cancelled requests"
   ]
  },
  {
   "cell_type": "code",
   "execution_count": null,
   "metadata": {},
   "outputs": [],
   "source": [
    "supply_dem_gap[[\"%Failed_req\",\"%TripCompleted\"]].plot(kind='bar',stacked=True,figsize=[10,5], colormap=\"gnuplot\")\n",
    "plt.xlabel(\"Timeslots\")\n",
    "plt.ylabel(\"Percentage of Requests\")\n",
    "plt.title(\"Airport to City - Supply Demand Gap\")\n",
    "plt.legend(title='Trip Status', labels=['Failed Requests- Incomplete Trips', 'Successful Requests- Completed Trips'],\n",
    "        loc='upper center', bbox_to_anchor=(1.15, 0.8), shadow=True, ncol=1)"
   ]
  },
  {
   "cell_type": "code",
   "execution_count": null,
   "metadata": {},
   "outputs": [],
   "source": []
  },
  {
   "cell_type": "code",
   "execution_count": null,
   "metadata": {},
   "outputs": [],
   "source": []
  },
  {
   "cell_type": "code",
   "execution_count": null,
   "metadata": {},
   "outputs": [],
   "source": []
  },
  {
   "cell_type": "code",
   "execution_count": null,
   "metadata": {},
   "outputs": [],
   "source": []
  },
  {
   "cell_type": "markdown",
   "metadata": {},
   "source": [
    "### Trip Status Count - Time Slots - City to Airport"
   ]
  },
  {
   "cell_type": "code",
   "execution_count": null,
   "metadata": {},
   "outputs": [],
   "source": [
    "morn5to9=pd.DataFrame(citysupdemgap.loc[5:8].sum())\n",
    "morn9to12=pd.DataFrame(citysupdemgap.loc[9:11].sum())\n",
    "afternoon1to5=pd.DataFrame(citysupdemgap.loc[12:16].sum())\n",
    "evening5to10pm=pd.DataFrame(citysupdemgap.loc[17:21].sum())\n",
    "night10to12=pd.DataFrame(citysupdemgap.loc[22:23].sum())\n",
    "midnight12to5am=pd.DataFrame(citysupdemgap.loc[0:4].sum())\n",
    "\n",
    "slots=pd.concat([morn5to9,morn9to12,afternoon1to5,evening5to10pm,night10to12,midnight12to5am],axis=1)\n",
    "\n",
    "slots.columns=[\"morn5to9\",\"morn9to12\",\"afternoon1to5\",\"evening5to10pm\",\"night10to12\",\"midnight12to5am\"]\n",
    "\n",
    "slots.reset_index(inplace=True)\n",
    "slots.drop(\"level_0\",axis=1,inplace=True)\n",
    "\n",
    "\n",
    "\n",
    "slots.set_index(\"Status\",inplace=True)\n",
    "gap=slots.T\n",
    "gap.plot(kind='bar', stacked=True, figsize=[8,5], colormap=\"winter\")\n",
    "plt.xlabel(\"Time\")\n",
    "plt.ylabel(\"Number of Requests\")\n",
    "plt.title(\"Trip Status Count: City to Airport\")\n",
    "plt.legend(title='Trip Status', labels=['Trips Cancelled', 'No Cars Available', 'Trip Completed'],\n",
    "        loc='upper center', bbox_to_anchor=(1.15, 0.8), shadow=True, ncol=1)"
   ]
  },
  {
   "cell_type": "code",
   "execution_count": null,
   "metadata": {},
   "outputs": [],
   "source": [
    "total=slots.sum()\n",
    "cancel=round((slots.loc[\"Cancelled\"]/total)*100)\n",
    "nocars=round((slots.loc[\"No Cars Available\"]/total)*100)\n",
    "tripcomp=round((slots.loc[\"Trip Completed\"]/total)*100)\n",
    "fail=slots.iloc[:2].sum()\n",
    "failperc=round((fail/total)*100)\n",
    "supply_dem_gap=pd.concat([gap,pd.DataFrame(columns =[\"%cancelled\", \"%NoCarsAvail\", \"%TripCompleted\",\"%Failed_req\",\n",
    "           \"failed requests\",\"total_requests\"])])\n",
    "supply_dem_gap[\"%cancelled\"]=cancel\n",
    "supply_dem_gap[\"%NoCarsAvail\"]=nocars\n",
    "supply_dem_gap[\"%TripCompleted\"]=tripcomp\n",
    "supply_dem_gap[\"%Failed_req\"]=failperc\n",
    "supply_dem_gap[\"failed requests\"]=fail\n",
    "supply_dem_gap[\"total_requests\"]=total\n",
    "\n",
    "\n",
    "supply_dem_gap"
   ]
  },
  {
   "cell_type": "markdown",
   "metadata": {},
   "source": [
    "#### City to Airport - Trip Status Percentage - Early Morning to Late night Slots"
   ]
  },
  {
   "cell_type": "code",
   "execution_count": null,
   "metadata": {},
   "outputs": [],
   "source": [
    "supply_dem_gap[[\"%cancelled\", \"%NoCarsAvail\", \"%TripCompleted\"]].plot(kind='bar',stacked=True,figsize=[10,5], colormap=\"gnuplot\")\n",
    "plt.xlabel(\"Time\")\n",
    "plt.ylabel(\"Percentage of Requests\")\n",
    "plt.title(\"Supply Demand Gap: City to Airport\")\n",
    "plt.legend(title='Trip Status', labels=[\"%cancelled\", \"%NoCarsAvail\", \"%TripCompleted\"],\n",
    "        loc='upper center', bbox_to_anchor=(1.15, 0.8), shadow=True, ncol=1)"
   ]
  },
  {
   "cell_type": "markdown",
   "metadata": {},
   "source": [
    "#### City to Airport- Failed and Successful Trip Percentage - Early Morning to Late night Slots"
   ]
  },
  {
   "cell_type": "code",
   "execution_count": null,
   "metadata": {},
   "outputs": [],
   "source": [
    "supply_dem_gap[[\"failed requests\",\"Trip Completed\",\"total_requests\"]].plot(kind='bar',figsize=[10,6], colormap=\"gnuplot\")\n",
    "plt.xlabel(\"Time\")\n",
    "plt.ylabel(\"Number of Requests\")\n",
    "plt.title(\"City to Airport: Trip Failed and Successful Count\")\n",
    "plt.legend(title='Trip Status', labels=['unsuccesful booking requests', 'successful booking req', 'Total booking'],\n",
    "        loc='upper center', bbox_to_anchor=(1.15, 0.8), shadow=True, ncol=1)"
   ]
  },
  {
   "cell_type": "code",
   "execution_count": null,
   "metadata": {},
   "outputs": [],
   "source": [
    "supply_dem_gap[[\"%Failed_req\",\"%TripCompleted\"]].plot(kind='bar',stacked=True,figsize=[10,5], colormap=\"gnuplot\")\n",
    "plt.xlabel(\"Timeslots\")\n",
    "plt.ylabel(\"Percentage of Requests\")\n",
    "plt.title(\"City to Airport- Supply Demand Gap\")\n",
    "plt.legend(title='Trip Status', labels=['Failed Requests- Incomplete Trips', 'Successful Requests- Completed Trips'],\n",
    "        loc='upper center', bbox_to_anchor=(1.15, 0.8), shadow=True, ncol=1)"
   ]
  },
  {
   "cell_type": "markdown",
   "metadata": {},
   "source": [
    "\n",
    "### 1. Supply demand gap of 59% on average over whole day - \"Airport to City\".\n",
    "* ##### 1.1 Most common cause of supply demand gap - \"Non availability of cars\". \n",
    "* ##### 1.2 Most Problematic timeslots: \n",
    "            - evening5to10, 79% unsuccessful trips being 73% due to non availability of cars\n",
    "\n",
    "\n",
    "### 2. Supply demand gap of 57% on an avaerage over whole day - \"City to Airport\".\n",
    "* ##### 2.1 Cause  -30% due to cancellation by drivers and  27% due to \"Non availability of cars\". \n",
    "* ##### 2.2 Most Problematic timeslots:\n",
    "            - morning5to9, 72% unsuccessful trips being 49% due to cancellation and 23% due to non avaialability of cars\n",
    "            - midnight12to5, 66% failed trips being 46% due to non availability of cars.\n"
   ]
  },
  {
   "cell_type": "markdown",
   "metadata": {},
   "source": [
    "#### Conclusions after EDA:\n",
    "##### 1. Considering timeslots with highest supply demand gaps from airport to city i.e. 5 to 10 pm only 70-80 requests each side are completed from City-Airport and Airport-City, it means the reason \"no cars available\" is not completely due to half of those cars are in transit but it indicates that all 300 cars are not at service even when there is such a high demand of total approx. 500 requests from both points.\n",
    "\n",
    "##### 2. Morning 0500-0900hrs, the high supply demand gap from city to airport is not due to cars not being available at service but even when they are available, the drivers are cancelling the requests which again is not because they all are serving other requests but there is some other unknown reason which is evident from the fact that at 5 am approx 350 requests are from city and only 100 are completed, and in the same duration 85 requests are completed from airport. "
   ]
  },
  {
   "cell_type": "markdown",
   "metadata": {},
   "source": [
    "##### 3.  Total 300 cars\n",
    "* ###### 300 unique driver ids i.e. 300 cars in total and the highest requests at one timeslot from all pickup ponts is as high as 500 recorded at 1800hrs."
   ]
  },
  {
   "cell_type": "markdown",
   "metadata": {},
   "source": [
    "#### Possible recommendations:\n",
    "##### 1. Provision of  more cars because demand goes as high as 500 at late evenings.\n",
    "##### 2. Addressing the issue of cars not being at service to customers at all, evident from the fact that only 120-170 requests are completed even when there are total 300 cars existing for service.\n",
    "##### 3. Early morning the City requests being cancelled in large numbers by drivers needs to be addressed as well.\n",
    "\n",
    "##### Need to find all possible causes of cars not being at service and never is there a time when there is no supply demand gap even when number of cars are much higher as compared to the requests. This issue can be resolved by driver's feedback for the cause of cancellations and being unavailable for work in high demand hours."
   ]
  },
  {
   "cell_type": "code",
   "execution_count": null,
   "metadata": {},
   "outputs": [],
   "source": []
  }
 ],
 "metadata": {
  "kernelspec": {
   "display_name": "Python 3",
   "language": "python",
   "name": "python3"
  },
  "language_info": {
   "codemirror_mode": {
    "name": "ipython",
    "version": 3
   },
   "file_extension": ".py",
   "mimetype": "text/x-python",
   "name": "python",
   "nbconvert_exporter": "python",
   "pygments_lexer": "ipython3",
   "version": "3.7.3"
  }
 },
 "nbformat": 4,
 "nbformat_minor": 2
}
